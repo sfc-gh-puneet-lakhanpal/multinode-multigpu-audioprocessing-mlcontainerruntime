{
 "cells": [
  {
   "cell_type": "markdown",
   "id": "559e4b8e-8400-4774-aa61-763a0f93e3cd",
   "metadata": {
    "collapsed": false,
    "name": "intro_download_audio_files"
   },
   "source": [
    "### Download data"
   ]
  },
  {
   "cell_type": "code",
   "execution_count": null,
   "id": "3775908f-ca36-4846-8f38-5adca39217f2",
   "metadata": {
    "language": "python",
    "name": "import_libs"
   },
   "outputs": [],
   "source": [
    "# Import python packages\n",
    "import streamlit as st\n",
    "import pandas as pd\n",
    "\n",
    "# We can also use Snowpark for our analyses!\n",
    "from snowflake.snowpark.context import get_active_session\n",
    "session = get_active_session()"
   ]
  },
  {
   "cell_type": "code",
   "execution_count": null,
   "id": "8d50cbf4-0c8d-4950-86cb-114990437ac9",
   "metadata": {
    "codeCollapsed": false,
    "language": "python",
    "name": "get_data"
   },
   "outputs": [],
   "source": [
    "!wget https://us.openslr.org/resources/12/dev-clean.tar.gz"
   ]
  },
  {
   "cell_type": "code",
   "execution_count": null,
   "id": "988708d0-3fcd-4d01-ad9c-26506688e125",
   "metadata": {
    "codeCollapsed": false,
    "language": "python",
    "name": "untar"
   },
   "outputs": [],
   "source": [
    "!tar -xzf /home/app/dev-clean.tar.gz"
   ]
  },
  {
   "cell_type": "code",
   "execution_count": null,
   "id": "4cd1ddce-615f-4257-a513-db8139f4988f",
   "metadata": {
    "codeCollapsed": false,
    "language": "python",
    "name": "see_files"
   },
   "outputs": [],
   "source": [
    "!ls LibriSpeech/dev-clean/1272/128104/"
   ]
  },
  {
   "cell_type": "code",
   "execution_count": null,
   "id": "c695373e-ac74-4b62-a1f1-08206cbd5c81",
   "metadata": {
    "codeCollapsed": false,
    "language": "sql",
    "name": "create_snowflake_Stage"
   },
   "outputs": [],
   "source": [
    "create stage if not exists AUDIO_FILES_STAGE ENCRYPTION = (TYPE = 'SNOWFLAKE_SSE') DIRECTORY = (ENABLE = TRUE);"
   ]
  },
  {
   "cell_type": "code",
   "execution_count": null,
   "id": "3097c3ca-5351-43c6-8b8e-22169ad726fb",
   "metadata": {
    "codeCollapsed": false,
    "language": "python",
    "name": "write_to_stage"
   },
   "outputs": [],
   "source": [
    "session.file.put(f\"/home/app/LibriSpeech/dev-clean/*/*/*.flac\", \"@AUDIO_FILES_STAGE/\", auto_compress=False, overwrite=True, parallel=99)"
   ]
  },
  {
   "cell_type": "code",
   "execution_count": null,
   "id": "f8625501-9fcf-47c9-914b-2a80f3ee6494",
   "metadata": {
    "codeCollapsed": false,
    "language": "sql",
    "name": "see_audio_files_in_stage"
   },
   "outputs": [],
   "source": [
    "ls @AUDIO_FILES_STAGE"
   ]
  }
 ],
 "metadata": {
  "kernelspec": {
   "display_name": "Streamlit Notebook",
   "name": "streamlit"
  },
  "lastEditStatus": {
   "authorEmail": "Puneet.Lakhanpal@Snowflake.com",
   "authorId": "233194668061",
   "authorName": "PLAKHANPAL",
   "lastEditTime": 1741240161943,
   "notebookId": "pb3pe6m257fwvegvklbc",
   "sessionId": "cb11e8af-79e6-4e79-8f6a-18a873d00058"
  }
 },
 "nbformat": 4,
 "nbformat_minor": 5
}
